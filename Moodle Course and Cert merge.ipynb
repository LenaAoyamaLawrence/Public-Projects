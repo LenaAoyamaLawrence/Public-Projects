{
 "cells": [
  {
   "cell_type": "code",
   "execution_count": 2,
   "id": "b500c02c",
   "metadata": {},
   "outputs": [],
   "source": [
    "# import packages\n",
    "import pandas as pd\n",
    "import numpy as np\n",
    "import re"
   ]
  },
  {
   "cell_type": "code",
   "execution_count": null,
   "id": "4f13c65b",
   "metadata": {},
   "outputs": [],
   "source": [
    "#create dataframes\n",
    "\n",
    "course_path = 'C:/Users/ywa/Documents/Data/Moodle Query/June2025/Course - Category - Enrollments.csv' \n",
    "cert_path = 'C:/Users/ywa/Documents/Data/Moodle Query/June2025/Course - Certificates.csv'\n",
    "\n",
    "course_df = pd.read_csv(course_path)\n",
    "cert_info = pd.read_csv(cert_path)\n",
    "#course_df.head()\n",
    "cert_info.head()\n"
   ]
  },
  {
   "cell_type": "code",
   "execution_count": null,
   "id": "5cdf3e52",
   "metadata": {},
   "outputs": [],
   "source": [
    "# groupby cert_info by courseID\n",
    "participation_key = r'teilnahmebestätigung|participation'\n",
    "achievement_key = r'leistungsnachweis|leistungsnachweise|achivement|record of achievement|zertifikat|certificate|transcript of records'\n",
    "\n",
    "cert_info['name_lower'] = cert_info['certificateName'].str.lower()\n",
    "\n",
    "def classify_cert(name):\n",
    "    if pd.isna(name):\n",
    "        return None\n",
    "    name = name.lower()\n",
    "    if re.search(participation_key, name):\n",
    "        return 'CoP'\n",
    "    if re.search(achievement_key, name):\n",
    "        return 'RoA'\n",
    "    else:\n",
    "        return None\n",
    "\n",
    "cert_info['cert_type'] = cert_info['name_lower'].apply(classify_cert)\n",
    "\n",
    "cert_info_filtered = cert_info[cert_info['cert_type'].notna()]\n",
    "\n",
    "cert_df = (cert_info_filtered.groupby(['courseID', 'cert_type'])['amount'].sum().unstack('cert_type').reset_index())\n",
    "\n",
    "cert_df.fillna(0, inplace = True)\n",
    "\n",
    "cert_df[['CoP', 'RoA']] = cert_df[['CoP', 'RoA']].astype(int)\n",
    "\n",
    "cert_df.columns = ['courseID', 'comfirmation_of_participation', 'records_of_achievement']\n",
    "\n",
    "print(cert_df.shape[0])\n",
    "\n",
    "cert_df.head()\n"
   ]
  },
  {
   "cell_type": "code",
   "execution_count": null,
   "id": "8b6f34ac",
   "metadata": {},
   "outputs": [],
   "source": [
    "# merge two dataframes\n",
    "course_df = course_df[['courseID', 'courseName', 'categoryName', 'enrollments']]\n",
    "\n",
    "print(len(course_df))\n",
    "print(len(cert_df))\n",
    "\n",
    "merged_df = course_df.merge(cert_df, on = 'courseID', how = 'left')\n",
    "\n",
    "print(len(merged_df))\n",
    "\n",
    "merged_df.head()"
   ]
  },
  {
   "cell_type": "code",
   "execution_count": null,
   "id": "bdd60292",
   "metadata": {},
   "outputs": [],
   "source": [
    "# import base table\n",
    "base_table_path = 'C:/Users/ywa/Documents/Data/Moodle Query/June2025/KIC-course completion rate.csv'\n",
    "\n",
    "base_table = pd.read_csv(base_table_path, sep = ';', encoding = 'utf8')\n",
    "\n",
    "base_table.head()\n"
   ]
  },
  {
   "cell_type": "code",
   "execution_count": null,
   "id": "36ddb1b6",
   "metadata": {},
   "outputs": [],
   "source": [
    "# merge the cert data with the base table\n",
    "base_merge = merged_df.merge(base_table, on = 'courseID', how = 'outer')\n",
    "base_merge \n"
   ]
  },
  {
   "cell_type": "code",
   "execution_count": null,
   "id": "1a8b7634",
   "metadata": {},
   "outputs": [],
   "source": [
    "# export data for spreadsheet check\n",
    "#merged_df.to_excel('C:/Users/ywa/Documents/Data/Moodle Query/June2025/MoodleEnrole.xlsx', index = False)\n",
    "base_merge.to_excel('C:/Users/ywa/Documents/Data/Moodle Query/June2025/MoodleEnrole.xlsx', index = False)"
   ]
  },
  {
   "cell_type": "code",
   "execution_count": null,
   "id": "7d332d7b",
   "metadata": {},
   "outputs": [],
   "source": []
  }
 ],
 "metadata": {
  "kernelspec": {
   "display_name": "Python 3 (ipykernel)",
   "language": "python",
   "name": "python3"
  },
  "language_info": {
   "codemirror_mode": {
    "name": "ipython",
    "version": 3
   },
   "file_extension": ".py",
   "mimetype": "text/x-python",
   "name": "python",
   "nbconvert_exporter": "python",
   "pygments_lexer": "ipython3",
   "version": "3.10.9"
  }
 },
 "nbformat": 4,
 "nbformat_minor": 5
}
